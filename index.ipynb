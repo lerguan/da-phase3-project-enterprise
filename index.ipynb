{
 "cells": [
  {
   "cell_type": "markdown",
   "metadata": {},
   "source": [
    "# Health Survey Data Analysis\n",
    "\n",
    "Lirui Guan"
   ]
  },
  {
   "cell_type": "markdown",
   "metadata": {},
   "source": [
    "## Executive Summary\n",
    "\n",
    "This project is to find out if a person's physical health is affected by owning or renting a home in New York state from survey responses from 2020-2021. \n",
    "- The distribution of number of days of being not good on physical health is similar for both renting and owning home\n",
    "- The average number of days of being not good on physical health for owning home and renting is 11 days and 12 days, respectively\n",
    "- Given the existing evidence, there is no statistically significant difference of the average days of being not physical healthy between owning home and renting"
   ]
  },
  {
   "cell_type": "markdown",
   "metadata": {},
   "source": [
    "## The Data\n",
    "\n",
    "The data uses the health data from the [CDC Behavioral Risk Factor Surveillance System (BRFSS)](https://www.cdc.gov/brfss/data_documentation/index.htm). Specifically this subset of the data represents survey responses from the 2020-2021 survey in the state of New York. Each record represents a survey response.\n",
    "\n",
    "- The `PHYSHLTH` column in the data set represents the days of the individual's physical health not being good in the last 30 days\n",
    "- The `RENTHOM1` column in the data set represents if the individual owns or rents a home.\n",
    "- The value in the data set uses the number as \"codes\" to represent the actual value in the [codebook](https://www.cdc.gov/brfss/annual_data/2020/pdf/codebook20_llcp-v2-508.pdf) from the CDC."
   ]
  },
  {
   "cell_type": "code",
   "execution_count": 1,
   "metadata": {},
   "outputs": [],
   "source": [
    "import matplotlib.pyplot as plt\n",
    "import numpy as np\n",
    "import pandas as pd\n",
    "import scipy.stats as stats\n",
    "\n",
    "\n",
    "file_path = \"https://raw.githubusercontent.com/learn-co-curriculum/da-phase3-project-enterprise/main/brfss_ny.csv\"\n",
    "df = pd.read_csv(file_path)"
   ]
  },
  {
   "cell_type": "code",
   "execution_count": 2,
   "metadata": {},
   "outputs": [
    {
     "data": {
      "text/html": [
       "<div>\n",
       "<style scoped>\n",
       "    .dataframe tbody tr th:only-of-type {\n",
       "        vertical-align: middle;\n",
       "    }\n",
       "\n",
       "    .dataframe tbody tr th {\n",
       "        vertical-align: top;\n",
       "    }\n",
       "\n",
       "    .dataframe thead th {\n",
       "        text-align: right;\n",
       "    }\n",
       "</style>\n",
       "<table border=\"1\" class=\"dataframe\">\n",
       "  <thead>\n",
       "    <tr style=\"text-align: right;\">\n",
       "      <th></th>\n",
       "      <th>_STATE</th>\n",
       "      <th>FMONTH</th>\n",
       "      <th>IDATE</th>\n",
       "      <th>IMONTH</th>\n",
       "      <th>IDAY</th>\n",
       "      <th>IYEAR</th>\n",
       "      <th>DISPCODE</th>\n",
       "      <th>SEQNO</th>\n",
       "      <th>_PSU</th>\n",
       "      <th>CTELENM1</th>\n",
       "      <th>...</th>\n",
       "      <th>_RFPSA23</th>\n",
       "      <th>_CLNSCPY</th>\n",
       "      <th>_SGMSCPY</th>\n",
       "      <th>_SGMS10Y</th>\n",
       "      <th>_RFBLDS4</th>\n",
       "      <th>_STOLDNA</th>\n",
       "      <th>_VIRCOLN</th>\n",
       "      <th>_SBONTIM</th>\n",
       "      <th>_CRCREC1</th>\n",
       "      <th>_AIDTST4</th>\n",
       "    </tr>\n",
       "  </thead>\n",
       "  <tbody>\n",
       "    <tr>\n",
       "      <th>0</th>\n",
       "      <td>36</td>\n",
       "      <td>11</td>\n",
       "      <td>11172020</td>\n",
       "      <td>11</td>\n",
       "      <td>17</td>\n",
       "      <td>2020</td>\n",
       "      <td>1200</td>\n",
       "      <td>2020000001</td>\n",
       "      <td>2020000001</td>\n",
       "      <td>NaN</td>\n",
       "      <td>...</td>\n",
       "      <td>NaN</td>\n",
       "      <td>NaN</td>\n",
       "      <td>NaN</td>\n",
       "      <td>NaN</td>\n",
       "      <td>NaN</td>\n",
       "      <td>NaN</td>\n",
       "      <td>NaN</td>\n",
       "      <td>NaN</td>\n",
       "      <td>NaN</td>\n",
       "      <td>1.0</td>\n",
       "    </tr>\n",
       "    <tr>\n",
       "      <th>1</th>\n",
       "      <td>36</td>\n",
       "      <td>1</td>\n",
       "      <td>1182020</td>\n",
       "      <td>1</td>\n",
       "      <td>18</td>\n",
       "      <td>2020</td>\n",
       "      <td>1200</td>\n",
       "      <td>2020000002</td>\n",
       "      <td>2020000002</td>\n",
       "      <td>NaN</td>\n",
       "      <td>...</td>\n",
       "      <td>NaN</td>\n",
       "      <td>NaN</td>\n",
       "      <td>NaN</td>\n",
       "      <td>NaN</td>\n",
       "      <td>NaN</td>\n",
       "      <td>NaN</td>\n",
       "      <td>NaN</td>\n",
       "      <td>NaN</td>\n",
       "      <td>NaN</td>\n",
       "      <td>2.0</td>\n",
       "    </tr>\n",
       "    <tr>\n",
       "      <th>2</th>\n",
       "      <td>36</td>\n",
       "      <td>4</td>\n",
       "      <td>5042020</td>\n",
       "      <td>5</td>\n",
       "      <td>4</td>\n",
       "      <td>2020</td>\n",
       "      <td>1200</td>\n",
       "      <td>2020000003</td>\n",
       "      <td>2020000003</td>\n",
       "      <td>NaN</td>\n",
       "      <td>...</td>\n",
       "      <td>NaN</td>\n",
       "      <td>NaN</td>\n",
       "      <td>NaN</td>\n",
       "      <td>NaN</td>\n",
       "      <td>NaN</td>\n",
       "      <td>NaN</td>\n",
       "      <td>NaN</td>\n",
       "      <td>NaN</td>\n",
       "      <td>NaN</td>\n",
       "      <td>2.0</td>\n",
       "    </tr>\n",
       "    <tr>\n",
       "      <th>3</th>\n",
       "      <td>36</td>\n",
       "      <td>1</td>\n",
       "      <td>1222020</td>\n",
       "      <td>1</td>\n",
       "      <td>22</td>\n",
       "      <td>2020</td>\n",
       "      <td>1200</td>\n",
       "      <td>2020000004</td>\n",
       "      <td>2020000004</td>\n",
       "      <td>NaN</td>\n",
       "      <td>...</td>\n",
       "      <td>NaN</td>\n",
       "      <td>NaN</td>\n",
       "      <td>NaN</td>\n",
       "      <td>NaN</td>\n",
       "      <td>NaN</td>\n",
       "      <td>NaN</td>\n",
       "      <td>NaN</td>\n",
       "      <td>NaN</td>\n",
       "      <td>NaN</td>\n",
       "      <td>2.0</td>\n",
       "    </tr>\n",
       "    <tr>\n",
       "      <th>4</th>\n",
       "      <td>36</td>\n",
       "      <td>3</td>\n",
       "      <td>3102020</td>\n",
       "      <td>3</td>\n",
       "      <td>10</td>\n",
       "      <td>2020</td>\n",
       "      <td>1200</td>\n",
       "      <td>2020000005</td>\n",
       "      <td>2020000005</td>\n",
       "      <td>NaN</td>\n",
       "      <td>...</td>\n",
       "      <td>NaN</td>\n",
       "      <td>NaN</td>\n",
       "      <td>NaN</td>\n",
       "      <td>NaN</td>\n",
       "      <td>NaN</td>\n",
       "      <td>NaN</td>\n",
       "      <td>NaN</td>\n",
       "      <td>NaN</td>\n",
       "      <td>NaN</td>\n",
       "      <td>1.0</td>\n",
       "    </tr>\n",
       "  </tbody>\n",
       "</table>\n",
       "<p>5 rows × 279 columns</p>\n",
       "</div>"
      ],
      "text/plain": [
       "   _STATE  FMONTH     IDATE  IMONTH  IDAY  IYEAR  DISPCODE       SEQNO  \\\n",
       "0      36      11  11172020      11    17   2020      1200  2020000001   \n",
       "1      36       1   1182020       1    18   2020      1200  2020000002   \n",
       "2      36       4   5042020       5     4   2020      1200  2020000003   \n",
       "3      36       1   1222020       1    22   2020      1200  2020000004   \n",
       "4      36       3   3102020       3    10   2020      1200  2020000005   \n",
       "\n",
       "         _PSU  CTELENM1  ...  _RFPSA23  _CLNSCPY  _SGMSCPY  _SGMS10Y  \\\n",
       "0  2020000001       NaN  ...       NaN       NaN       NaN       NaN   \n",
       "1  2020000002       NaN  ...       NaN       NaN       NaN       NaN   \n",
       "2  2020000003       NaN  ...       NaN       NaN       NaN       NaN   \n",
       "3  2020000004       NaN  ...       NaN       NaN       NaN       NaN   \n",
       "4  2020000005       NaN  ...       NaN       NaN       NaN       NaN   \n",
       "\n",
       "   _RFBLDS4  _STOLDNA  _VIRCOLN  _SBONTIM  _CRCREC1  _AIDTST4  \n",
       "0       NaN       NaN       NaN       NaN       NaN       1.0  \n",
       "1       NaN       NaN       NaN       NaN       NaN       2.0  \n",
       "2       NaN       NaN       NaN       NaN       NaN       2.0  \n",
       "3       NaN       NaN       NaN       NaN       NaN       2.0  \n",
       "4       NaN       NaN       NaN       NaN       NaN       1.0  \n",
       "\n",
       "[5 rows x 279 columns]"
      ]
     },
     "execution_count": 2,
     "metadata": {},
     "output_type": "execute_result"
    }
   ],
   "source": [
    "df.head()"
   ]
  },
  {
   "cell_type": "code",
   "execution_count": 3,
   "metadata": {},
   "outputs": [
    {
     "data": {
      "text/plain": [
       "(14769, 279)"
      ]
     },
     "execution_count": 3,
     "metadata": {},
     "output_type": "execute_result"
    }
   ],
   "source": [
    "df.shape"
   ]
  },
  {
   "cell_type": "code",
   "execution_count": 4,
   "metadata": {},
   "outputs": [
    {
     "data": {
      "text/plain": [
       "count    14769.000000\n",
       "mean        67.801815\n",
       "std         34.082730\n",
       "min          1.000000\n",
       "25%         30.000000\n",
       "50%         88.000000\n",
       "75%         88.000000\n",
       "max         99.000000\n",
       "Name: PHYSHLTH, dtype: float64"
      ]
     },
     "execution_count": 4,
     "metadata": {},
     "output_type": "execute_result"
    }
   ],
   "source": [
    "df['PHYSHLTH'].describe()"
   ]
  },
  {
   "cell_type": "code",
   "execution_count": 5,
   "metadata": {},
   "outputs": [
    {
     "data": {
      "text/plain": [
       "1.0    8587\n",
       "2.0    5370\n",
       "3.0     608\n",
       "9.0     147\n",
       "7.0      57\n",
       "Name: RENTHOM1, dtype: int64"
      ]
     },
     "execution_count": 5,
     "metadata": {},
     "output_type": "execute_result"
    }
   ],
   "source": [
    "df['RENTHOM1'].value_counts()"
   ]
  },
  {
   "cell_type": "code",
   "execution_count": 6,
   "metadata": {},
   "outputs": [
    {
     "name": "stdout",
     "output_type": "stream",
     "text": [
      "<class 'pandas.core.frame.DataFrame'>\n",
      "RangeIndex: 14769 entries, 0 to 14768\n",
      "Data columns (total 2 columns):\n",
      " #   Column    Non-Null Count  Dtype  \n",
      "---  ------    --------------  -----  \n",
      " 0   PHYSHLTH  14769 non-null  float64\n",
      " 1   RENTHOM1  14769 non-null  float64\n",
      "dtypes: float64(2)\n",
      "memory usage: 230.9 KB\n"
     ]
    }
   ],
   "source": [
    "df[['PHYSHLTH', 'RENTHOM1']].info()"
   ]
  },
  {
   "cell_type": "markdown",
   "metadata": {},
   "source": [
    "## Data Preparation\n",
    "- `PHYSHLTH` column contains values range from 1 to 99, as well as blanks(NaN). According the codebook from CDC, values 1 - 30 are actual days that are needed for analysis.\n",
    "    * Converting all instances of 88 (None) to 0\n",
    "    * Dropping all records where `PHYSHLTH` is 77, 99, or blank (NaN)\n",
    "    \n",
    "- `RENTHOM1` column contains values 1 (own), 2 (rent), as well as others accroding to the codebook from CDC\n",
    "    * Drop other records with values other than 1 and 2"
   ]
  },
  {
   "cell_type": "code",
   "execution_count": 7,
   "metadata": {},
   "outputs": [],
   "source": [
    "# Convert instances of 88 to 0 in column PHYSHLTH\n",
    "df['PHYSHLTH'].replace(88, 0, inplace = True)"
   ]
  },
  {
   "cell_type": "code",
   "execution_count": 8,
   "metadata": {},
   "outputs": [],
   "source": [
    "# Drop records where PHYSHLTH is 77 and 99\n",
    "df = df.loc[df['PHYSHLTH'].isin([77, 99]) == False]"
   ]
  },
  {
   "cell_type": "code",
   "execution_count": 9,
   "metadata": {},
   "outputs": [],
   "source": [
    "# Replace blank records to NaN if there are any, and drop all records where PHYSHLTH is NaN\n",
    "df['PHYSHLTH'].replace('', np.nan, inplace = True)"
   ]
  },
  {
   "cell_type": "code",
   "execution_count": 10,
   "metadata": {},
   "outputs": [],
   "source": [
    "df.dropna(subset=['PHYSHLTH'], inplace = True)"
   ]
  },
  {
   "cell_type": "code",
   "execution_count": 11,
   "metadata": {},
   "outputs": [
    {
     "data": {
      "text/plain": [
       "count    14440.000000\n",
       "mean         3.083795\n",
       "std          7.592715\n",
       "min          0.000000\n",
       "25%          0.000000\n",
       "50%          0.000000\n",
       "75%          1.000000\n",
       "max         30.000000\n",
       "Name: PHYSHLTH, dtype: float64"
      ]
     },
     "execution_count": 11,
     "metadata": {},
     "output_type": "execute_result"
    }
   ],
   "source": [
    "df['PHYSHLTH'].describe()"
   ]
  },
  {
   "cell_type": "code",
   "execution_count": 12,
   "metadata": {},
   "outputs": [],
   "source": [
    "# Drop records with values other than 1 and 2 in RENTHOM1.\n",
    "df = df[df['RENTHOM1'].isin([1.0, 2.0])]"
   ]
  },
  {
   "cell_type": "code",
   "execution_count": 13,
   "metadata": {},
   "outputs": [
    {
     "data": {
      "text/plain": [
       "1.0    8453\n",
       "2.0    5206\n",
       "Name: RENTHOM1, dtype: int64"
      ]
     },
     "execution_count": 13,
     "metadata": {},
     "output_type": "execute_result"
    }
   ],
   "source": [
    "df['RENTHOM1'].value_counts()"
   ]
  },
  {
   "cell_type": "code",
   "execution_count": 14,
   "metadata": {},
   "outputs": [
    {
     "name": "stdout",
     "output_type": "stream",
     "text": [
      "<class 'pandas.core.frame.DataFrame'>\n",
      "Int64Index: 13659 entries, 0 to 14767\n",
      "Data columns (total 2 columns):\n",
      " #   Column    Non-Null Count  Dtype  \n",
      "---  ------    --------------  -----  \n",
      " 0   PHYSHLTH  13659 non-null  float64\n",
      " 1   RENTHOM1  13659 non-null  float64\n",
      "dtypes: float64(2)\n",
      "memory usage: 320.1 KB\n"
     ]
    }
   ],
   "source": [
    "df[['PHYSHLTH', 'RENTHOM1']].info()"
   ]
  },
  {
   "cell_type": "markdown",
   "metadata": {},
   "source": [
    "## Confidence Interval for Mean of `PHYSHLTH`"
   ]
  },
  {
   "cell_type": "code",
   "execution_count": 15,
   "metadata": {},
   "outputs": [
    {
     "name": "stdout",
     "output_type": "stream",
     "text": [
      "The confidence interval for mean of PHYSHLTH at 95% confidence level is  (2.3983225653530025, 3.717677434646997)\n"
     ]
    }
   ],
   "source": [
    "# Randomly select 500 samples from PHYSHLTH\n",
    "sample = df['PHYSHLTH'].sample(n = 500, random_state = 100)\n",
    "sample_size = len(sample)\n",
    "sample_mean = sample.mean()\n",
    "sample_sd = sample.std()\n",
    "se = stats.sem(sample)\n",
    "\n",
    "ci = stats.t.interval(alpha = 0.95, loc = sample_mean, scale = se, df = sample_size - 1)\n",
    "print('The confidence interval for mean of PHYSHLTH at 95% confidence level is ', ci)"
   ]
  },
  {
   "cell_type": "markdown",
   "metadata": {},
   "source": [
    "- With sample size of 500, we are 95% confident that the true mean of PHYSHLTH falls within 2.4 and 3.7."
   ]
  },
  {
   "cell_type": "markdown",
   "metadata": {},
   "source": [
    "## Differences in `PHYSHLTH` Based on `RENTHOM1`\n",
    "\n",
    "### How Does `PHYSHLTH` Differ Based on `RENTHOM1`?\n",
    "\n",
    "- To find out if the physical health is affected by the housing status of an individual, we can test if there  is statistically significant difference of the mean of PHYSHLTH between one owns home and one rents. \n",
    "\n",
    "- By spliting the data based on `RENTHOM1`, one can use statistic t-test to test if two samples means are significantlly different. "
   ]
  },
  {
   "cell_type": "code",
   "execution_count": 16,
   "metadata": {},
   "outputs": [
    {
     "name": "stdout",
     "output_type": "stream",
     "text": [
      "The mean value of own sample is  2.675854726132734\n",
      "The mean value of rent sample is  3.6959277756434883\n"
     ]
    }
   ],
   "source": [
    "# Separate the records based on the value of RENTHOM1. Note: value 1 is own and value 2 is rent in RENTHOM1\n",
    "\n",
    "df_own = df.loc[df['RENTHOM1'] == 1, 'PHYSHLTH']\n",
    "df_rent = df.loc[df['RENTHOM1'] == 2, 'PHYSHLTH']\n",
    "print('The mean value of own sample is ', df_own.mean())\n",
    "print('The mean value of rent sample is ', df_rent.mean())"
   ]
  },
  {
   "cell_type": "code",
   "execution_count": 17,
   "metadata": {},
   "outputs": [],
   "source": [
    "import seaborn as sns"
   ]
  },
  {
   "cell_type": "code",
   "execution_count": 18,
   "metadata": {},
   "outputs": [
    {
     "data": {
      "image/png": "[encoded data removed]",
      "text/plain": [
       "<Figure size 576x432 with 1 Axes>"
      ]
     },
     "metadata": {
      "needs_background": "light"
     },
     "output_type": "display_data"
    }
   ],
   "source": [
    "# Boxplot of PHYSHLTH based on the value of RENTHOM1\n",
    "fig, ax = plt.subplots(figsize = (8, 6))\n",
    "sns.boxplot(data = df, x = 'RENTHOM1', y = 'PHYSHLTH', ax = ax)\n",
    "ax.set_xlabel('Housing Status')\n",
    "ax.set_ylabel('Number of Days')\n",
    "ax.set_xticklabels(['Own', 'Rent'])\n",
    "ax.set_title('Distribution of Days Not in Good Physical Health Based on Housing Status');"
   ]
  },
  {
   "cell_type": "code",
   "execution_count": 19,
   "metadata": {},
   "outputs": [
    {
     "data": {
      "image/png": "[encoded data removed]",
      "text/plain": [
       "<Figure size 576x432 with 1 Axes>"
      ]
     },
     "metadata": {
      "needs_background": "light"
     },
     "output_type": "display_data"
    }
   ],
   "source": [
    "# Histogram of PHYSHLTH based on the value of RENTHOM1\n",
    "fig, ax = plt.subplots(figsize = (8, 6))\n",
    "plt.hist(df_own, label = 'Own', bins = 30, alpha = 0.5)\n",
    "plt.hist(df_rent, label = 'Rent', bins = 30, alpha = 0.5)\n",
    "ax.set_xlabel('Number of days')\n",
    "ax.set_ylabel('Count')\n",
    "ax.set_title('Distribution of Days Not in Good Physical Health Based on Housing Status')\n",
    "plt.axvline(df_own.mean(), color = 'b')\n",
    "plt.axvline(df_rent.mean(), color = 'g')\n",
    "plt.legend();"
   ]
  },
  {
   "cell_type": "markdown",
   "metadata": {},
   "source": [
    "- The box-whisker plot suggests that the distribution of PHYSHLTH for renting home is slightly wider than that for owning.\n",
    "- There are a lot of PHYSHLTH values for renting and owning home that is close to 0, meaning physically healthy.\n",
    "- The histogram plot also suggests that both PHYSHLTH values for renting and owning home are similarly distributed.\n",
    "- It seems that there are a lot of peopele are physically healthy with owing and renting home.\n",
    "- The average PHYSHLTH value for owing home is 2.7 and for renting home is 3.7"
   ]
  },
  {
   "cell_type": "markdown",
   "metadata": {},
   "source": [
    "### Is the Difference Statistically Significant?\n",
    "\n",
    "- Null hypothesis: There is no statistically significant difference of the average days of being not physical healthy between owning home and renting\n",
    "- Alternative hypothesis: There is statistically significant difference of the average days of being not physical healthy between owning home and renting\n",
    "- Type I error: Draw a conclusion that the average days of being not physical healthy between owning home and renting is different, when they are actually the same (false positive).\n",
    "- Type II error: Draw a conclusion that the average days of being not physical healthy between owning home and renting are the same, when it's different (false negtive).\n",
    "- Test type: two sample two-tailed independent t-test."
   ]
  },
  {
   "cell_type": "code",
   "execution_count": 20,
   "metadata": {},
   "outputs": [
    {
     "name": "stdout",
     "output_type": "stream",
     "text": [
      "Variance of own sample is  49.83447389558214\n",
      "Variance of rent sample is  69.03853815261074\n"
     ]
    }
   ],
   "source": [
    "# sampling both data subsets with sample size of 250\n",
    "sample_own = df_own.sample(n = 250, random_state = 50)\n",
    "sample_rent = df_rent.sample(n = 250, random_state = 50)\n",
    "print('Variance of own sample is ', sample_own.var())\n",
    "print('Variance of rent sample is ', sample_rent.var())"
   ]
  },
  {
   "cell_type": "code",
   "execution_count": 21,
   "metadata": {},
   "outputs": [
    {
     "name": "stdout",
     "output_type": "stream",
     "text": [
      "The test statistic is  -1.432799150480845\n",
      "The p-value is  0.15255904223202923\n"
     ]
    }
   ],
   "source": [
    "# calculate test statistic and p-value for two sample two-tailed independent t-test\n",
    "result = stats.ttest_ind(sample_own, sample_rent, equal_var = False, alternative = 'two-sided')\n",
    "print('The test statistic is ', result[0])\n",
    "print('The p-value is ', result[1])"
   ]
  },
  {
   "cell_type": "markdown",
   "metadata": {},
   "source": [
    "- The p-value is greater than alpha ( 0.15 > 0.05), we failed to reject the null hypothesis.\n",
    "- Given the existing evidence, there is no statistically significant difference of the average days of being not physical healthy between owning home and renting"
   ]
  },
  {
   "cell_type": "markdown",
   "metadata": {},
   "source": [
    "## Next Steps\n",
    "\n",
    "There are many aspects of health questions were surveyed in the health data set. We can perform analysis such as below:\n",
    "- Investigate `MENTHLTH` (Number of Days Mental Health Not Good) based on `RENTHOM1`\n",
    "- Investigate `PHYSHLTH`(Number of Days Physical Health Not Good) based on `EXERANY2` (Exercise in Past 30 Days)\n",
    "- Investigate `PHYSHLTH`(Number of Days Physical Health Not Good) based on ` EDUCA` (Education Level)"
   ]
  }
 ],
 "metadata": {
  "kernelspec": {
   "display_name": "Python 3 (ipykernel)",
   "language": "python",
   "name": "python3"
  },
  "language_info": {
   "codemirror_mode": {
    "name": "ipython",
    "version": 3
   },
   "file_extension": ".py",
   "mimetype": "text/x-python",
   "name": "python",
   "nbconvert_exporter": "python",
   "pygments_lexer": "ipython3",
   "version": "3.8.13"
  }
 },
 "nbformat": 4,
 "nbformat_minor": 4
}
